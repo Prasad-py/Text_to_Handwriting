{
 "cells": [
  {
   "cell_type": "code",
   "execution_count": 1,
   "id": "97e79de5",
   "metadata": {},
   "outputs": [],
   "source": [
    "import pywhatkit\n"
   ]
  },
  {
   "cell_type": "code",
   "execution_count": 2,
   "id": "7e64ea5f",
   "metadata": {},
   "outputs": [],
   "source": [
    "pywhatkit.text_to_handwriting('''An essay is, generally, a piece of writing that gives the author's own argument, but the definition is vague, overlapping with those of a letter, a paper, an article, a pamphlet, and a short story. Essays have traditionally been sub-classified as formal and informal. Formal essays are characterized by \"serious purpose, dignity, logical organization, length,\" whereas the informal essay is characterized by \"the personal element (self-revelation, individual tastes and experiences, confidential manner), humor, graceful style, rambling structure, unconventionality or novelty of theme,\" etc.[1]\n",
    "\n",
    "Essays are commonly used as literary criticism, political manifestos''',rgb=(20,20,100))\n"
   ]
  },
  {
   "cell_type": "code",
   "execution_count": null,
   "id": "be14a386",
   "metadata": {},
   "outputs": [],
   "source": []
  }
 ],
 "metadata": {
  "kernelspec": {
   "display_name": "Python 3",
   "language": "python",
   "name": "python3"
  },
  "language_info": {
   "codemirror_mode": {
    "name": "ipython",
    "version": 3
   },
   "file_extension": ".py",
   "mimetype": "text/x-python",
   "name": "python",
   "nbconvert_exporter": "python",
   "pygments_lexer": "ipython3",
   "version": "3.8.8"
  }
 },
 "nbformat": 4,
 "nbformat_minor": 5
}
